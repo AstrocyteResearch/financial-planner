{
 "cells": [
  {
   "cell_type": "code",
   "execution_count": 8,
   "metadata": {},
   "outputs": [],
   "source": [
    "# LTCI Cost of Waiting "
   ]
  },
  {
   "cell_type": "code",
   "execution_count": 13,
   "metadata": {},
   "outputs": [
    {
     "ename": "ModuleNotFoundError",
     "evalue": "No module named 'financial_planner.entities'",
     "output_type": "error",
     "traceback": [
      "\u001b[1;31m---------------------------------------------------------------------------\u001b[0m",
      "\u001b[1;31mModuleNotFoundError\u001b[0m                       Traceback (most recent call last)",
      "\u001b[1;32m<ipython-input-13-c0568364a33e>\u001b[0m in \u001b[0;36m<module>\u001b[1;34m\u001b[0m\n\u001b[0;32m      1\u001b[0m \u001b[1;31m#from financial_planner.entities.term_structure import term_structure\u001b[0m\u001b[1;33m\u001b[0m\u001b[1;33m\u001b[0m\u001b[1;33m\u001b[0m\u001b[0m\n\u001b[1;32m----> 2\u001b[1;33m \u001b[1;32mfrom\u001b[0m \u001b[0mfinancial_planner\u001b[0m\u001b[1;33m.\u001b[0m\u001b[0mentities\u001b[0m\u001b[1;33m.\u001b[0m\u001b[0mhousehold\u001b[0m \u001b[1;32mimport\u001b[0m \u001b[0mPerson\u001b[0m\u001b[1;33m\u001b[0m\u001b[1;33m\u001b[0m\u001b[0m\n\u001b[0m",
      "\u001b[1;31mModuleNotFoundError\u001b[0m: No module named 'financial_planner.entities'"
     ]
    }
   ],
   "source": [
    "#from financial_planner.entities.term_structure import term_structure\n",
    "from financial_planner.entities.household import Person\n"
   ]
  },
  {
   "cell_type": "code",
   "execution_count": 2,
   "metadata": {},
   "outputs": [],
   "source": [
    "class  LTCI_cost_of_waiting():\n",
    "    '''Calculate the Potential Cost of Waiting to Purchase a Long-Term-Care Insurance Policy\n",
    "    '''\n",
    "    def __init__(current_age, purchase_age, benifit_age, current_premium, future_premium):\n",
    "        '''\n",
    "        current_age, is the age current age of the customer\n",
    "        purchase_age, is the age the customer plan to enter a insurance policy\n",
    "        benifit_age, is the age the customer will receive the benifit from the insurance\n",
    "        current_premium, is the annual premium if the customer enters the insurance right now\n",
    "        future_premium, is the annual premium if the customer enters the insurance at the purchase_age\n",
    "        '''\n",
    "        self.current_age = current_age\n",
    "        self.purchase_age = purchase_age\n",
    "        self.benifit_age = benifit_age\n",
    "        self.current_premium = current_premium\n",
    "        self.future_premium = future_premium\n",
    "        \n",
    "    def discount_factor(nyears):\n",
    "        nyears = self.benifit_age-self.current_age\n",
    "        term_stracture = \n",
    "        discount_f = \n",
    "        return discount_f\n",
    "        \n",
    "    def furture_cashflow():\n",
    "        fu_cashflow = np.concatenate(np.zeros(self.purchase_age-self.current_age),\n",
    "                                     np.repeat(self.future_premium,(self.benifit_age-self.purchase_age)))\n",
    "        return fu_cashflow\n",
    "        \n",
    "    def current_cashflow():\n",
    "        cu_cashflow = np.concatenate(np.repeat(self.current_premium,(self.benifit_age-self.current_age)))\n",
    "\n",
    "    \n",
    "    def cost_future_purchase():\n",
    "        dis_factor = discount_factor()\n",
    "        cost_future_purchase = sum(dis_factor*furture_cashflow)\n",
    "   \n",
    "    def cost_current_purchase():\n",
    "\n",
    "        cost_current_purchase = sum(dis_factor*current_cashflow)\n",
    "    \n",
    "    def cost():\n",
    "        waiting_cost = cost_future_purchase()-cost_current_purchase()\n"
   ]
  },
  {
   "cell_type": "code",
   "execution_count": 4,
   "metadata": {},
   "outputs": [
    {
     "data": {
      "text/plain": [
       "-1352"
      ]
     },
     "execution_count": 4,
     "metadata": {},
     "output_type": "execute_result"
    }
   ],
   "source": [
    "(80-55)*1480-(80-56)*1598"
   ]
  },
  {
   "cell_type": "code",
   "execution_count": null,
   "metadata": {},
   "outputs": [],
   "source": []
  }
 ],
 "metadata": {
  "kernelspec": {
   "display_name": "Python 3",
   "language": "python",
   "name": "python3"
  },
  "language_info": {
   "codemirror_mode": {
    "name": "ipython",
    "version": 3
   },
   "file_extension": ".py",
   "mimetype": "text/x-python",
   "name": "python",
   "nbconvert_exporter": "python",
   "pygments_lexer": "ipython3",
   "version": "3.7.3"
  }
 },
 "nbformat": 4,
 "nbformat_minor": 4
}
