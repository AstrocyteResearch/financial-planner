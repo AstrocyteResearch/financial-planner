{
 "cells": [
  {
   "cell_type": "code",
   "execution_count": 5,
   "metadata": {},
   "outputs": [],
   "source": [
    "# LTCI Cost of Waiting "
   ]
  },
  {
   "cell_type": "code",
   "execution_count": 1,
   "metadata": {},
   "outputs": [],
   "source": [
    "import numpy as np\n",
    "import pandas as pd\n",
    "from scipy.optimize import minimize       "
   ]
  },
  {
   "cell_type": "code",
   "execution_count": 2,
   "metadata": {},
   "outputs": [
    {
     "ename": "ModuleNotFoundError",
     "evalue": "No module named 'financial_planner.entities'",
     "output_type": "error",
     "traceback": [
      "\u001b[1;31m---------------------------------------------------------------------------\u001b[0m",
      "\u001b[1;31mModuleNotFoundError\u001b[0m                       Traceback (most recent call last)",
      "\u001b[1;32m<ipython-input-2-ee634c07c902>\u001b[0m in \u001b[0;36m<module>\u001b[1;34m\u001b[0m\n\u001b[1;32m----> 1\u001b[1;33m \u001b[1;32mfrom\u001b[0m \u001b[0mfinancial_planner\u001b[0m\u001b[1;33m.\u001b[0m\u001b[0mentities\u001b[0m\u001b[1;33m.\u001b[0m\u001b[0mterm_structure\u001b[0m \u001b[1;32mimport\u001b[0m \u001b[0mterm_structure\u001b[0m\u001b[1;33m\u001b[0m\u001b[1;33m\u001b[0m\u001b[0m\n\u001b[0m",
      "\u001b[1;31mModuleNotFoundError\u001b[0m: No module named 'financial_planner.entities'"
     ]
    }
   ],
   "source": [
    "from financial_planner.entities.term_structure import term_structure"
   ]
  },
  {
   "cell_type": "code",
   "execution_count": 86,
   "metadata": {},
   "outputs": [
    {
     "name": "stdout",
     "output_type": "stream",
     "text": [
      "interestes data successfully collected\n"
     ]
    }
   ],
   "source": [
    "# get interest rate of US treasury\n",
    "chromdriver_path = 'D:\\\\chromedriver\\\\chromedriver_win32\\\\chromedriver.exe'\n",
    "term_struc = term_structure(chromdriver_path)"
   ]
  },
  {
   "cell_type": "code",
   "execution_count": 87,
   "metadata": {},
   "outputs": [],
   "source": [
    "class LTCI_cost_of_waiting():\n",
    "    '''Calculate the Potential Cost of Waiting to Purchase a Long-Term-Care Insurance Policy\n",
    "    '''\n",
    "    def __init__(self,current_age, purchase_age, benifit_age, current_premium, future_premium,term_stru = term_struc):\n",
    "        '''\n",
    "        current_age, is the age current age of the customer.\n",
    "        purchase_age, is the ages the customer plan to enter a insurance policy.\n",
    "        benifit_age, is the age the customer will receive the benifit from the insurance.\n",
    "        current_premium, is the annual premium if the customer enters the insurance right now.\n",
    "        future_premium, is the annual premium if the customer enters the insurance at the purchase_age.\n",
    "        chromdriver_path, is the local path for chromedriver which will be used in crawler.\n",
    "        term_stru, is the term structure of US treasury.\n",
    "        '''\n",
    "        self.current_age = current_age\n",
    "        self.purchase_age = purchase_age\n",
    "        self.benifit_age = benifit_age\n",
    "        self.current_premium = current_premium\n",
    "        self.future_premium = future_premium\n",
    "        self.term_structure = term_stru\n",
    "        \n",
    "    def discount_factor(self):\n",
    "        nyears = self.benifit_age-self.current_age\n",
    "        term_str = self.term_structure[:nyears]\n",
    "        discount_f = [1] + [1/(1+term_str[i])**(i+1) for i in range(nyears-1)]\n",
    "        return discount_f\n",
    "        \n",
    "    def future_cashflow(self):\n",
    "        fut_cashflow = np.concatenate((np.zeros(self.purchase_age-self.current_age),\n",
    "                                     np.repeat(self.future_premium,(self.benifit_age-self.purchase_age))))\n",
    "        return fut_cashflow\n",
    "        \n",
    "    def current_cashflow(self):\n",
    "        cur_cashflow = np.repeat(self.current_premium,(self.benifit_age-self.current_age))\n",
    "        return cur_cashflow\n",
    "    \n",
    "    def cost_future_purchase(self):\n",
    "        cost_fut_purchase = sum(self.discount_factor()*self.future_cashflow())\n",
    "        return cost_fut_purchase\n",
    "   \n",
    "    def cost_current_purchase(self):\n",
    "        cost_cur_purchase = sum(self.discount_factor()*self.current_cashflow())\n",
    "        return cost_cur_purchase\n",
    "    \n",
    "    def potential_cost_of_waiting(self):\n",
    "        waiting_cost = self.cost_future_purchase()-self.cost_current_purchase()\n",
    "        print('The LTCI Cost of Waiting is $%f' % waiting_cost)\n",
    "        return waiting_cost\n",
    "    \n",
    "    def potential_cost_of_waiting_opt(self):\n",
    "        '''this function is used to do the optimization, we delet the print commend\n",
    "        '''\n",
    "        waiting_cost = self.cost_future_purchase()-self.cost_current_purchase()\n",
    "        return waiting_cost\n",
    "    \n",
    "    def break_even_future_price(self):\n",
    "        input_fu_premiun = self.future_premium\n",
    "        def costfun(fu_premium):\n",
    "            self.future_premium = fu_premium\n",
    "            return self.potential_cost_of_waiting_opt()**2\n",
    "        opt = minimize(costfun,self.current_premium)\n",
    "        break_even_price = opt.x\n",
    "        self.future_premium = input_fu_premiun # restore the original future premium value\n",
    "        print('If the future premium is %.2f it is the same purchasing the insurance right now or in \\\n",
    "              the future.' % break_even_price)\n",
    "        return break_even_price\n"
   ]
  },
  {
   "cell_type": "code",
   "execution_count": 91,
   "metadata": {},
   "outputs": [
    {
     "name": "stdout",
     "output_type": "stream",
     "text": [
      "[1480 1480 1480 1480 1480 1480 1480 1480 1480 1480 1480 1480 1480 1480\n",
      " 1480 1480 1480 1480 1480 1480 1480 1480 1480 1480 1480]\n",
      "[   0. 1598. 1598. 1598. 1598. 1598. 1598. 1598. 1598. 1598. 1598. 1598.\n",
      " 1598. 1598. 1598. 1598. 1598. 1598. 1598. 1598. 1598. 1598. 1598. 1598.\n",
      " 1598.]\n",
      "33350.116592863036\n",
      "34411.112375266974\n",
      "The LTCI Cost of Waiting is $1060.995782\n",
      "If the future premium is 1548.73 it is the same purchasing the insurance right now or in               the future.\n",
      "1598\n",
      "[   0. 1598. 1598. 1598. 1598. 1598. 1598. 1598. 1598. 1598. 1598. 1598.\n",
      " 1598. 1598. 1598. 1598. 1598. 1598. 1598. 1598. 1598. 1598. 1598. 1598.\n",
      " 1598.]\n"
     ]
    }
   ],
   "source": [
    "# test and example\n",
    "if __name__ == '__main__':\n",
    "    L = LTCI_cost_of_waiting(55,56,80,1480,1598,term_struc)\n",
    "    print(L.current_cashflow())\n",
    "    print(L.future_cashflow())\n",
    "    print(L.cost_current_purchase())\n",
    "    print(L.cost_future_purchase())\n",
    "    L.potential_cost_of_waiting()\n",
    "    L.break_even_future_price()\n",
    "    print(L.future_premium)\n",
    "    print(L.future_cashflow())\n"
   ]
  },
  {
   "cell_type": "code",
   "execution_count": null,
   "metadata": {},
   "outputs": [],
   "source": []
  }
 ],
 "metadata": {
  "kernelspec": {
   "display_name": "Python 3",
   "language": "python",
   "name": "python3"
  },
  "language_info": {
   "codemirror_mode": {
    "name": "ipython",
    "version": 3
   },
   "file_extension": ".py",
   "mimetype": "text/x-python",
   "name": "python",
   "nbconvert_exporter": "python",
   "pygments_lexer": "ipython3",
   "version": "3.7.3"
  }
 },
 "nbformat": 4,
 "nbformat_minor": 4
}
