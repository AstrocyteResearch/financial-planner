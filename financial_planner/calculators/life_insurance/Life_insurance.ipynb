{
 "cells": [
  {
   "cell_type": "code",
   "execution_count": 1,
   "metadata": {},
   "outputs": [],
   "source": [
    "# life insurance"
   ]
  },
  {
   "cell_type": "code",
   "execution_count": 6,
   "metadata": {},
   "outputs": [],
   "source": [
    "import numpy as np\n",
    "import pandas as pd"
   ]
  },
  {
   "cell_type": "code",
   "execution_count": 7,
   "metadata": {},
   "outputs": [],
   "source": [
    "from financial_planner.entities.term_structure import term_structure"
   ]
  },
  {
   "cell_type": "code",
   "execution_count": 8,
   "metadata": {},
   "outputs": [
    {
     "name": "stdout",
     "output_type": "stream",
     "text": [
      "interestes data successfully collected\n"
     ]
    }
   ],
   "source": [
    "# get interest rate of US treasury\n",
    "chromdriver_path = 'D:\\\\chromedriver\\\\chromedriver_win32\\\\chromedriver.exe'\n",
    "term_struc = term_structure(chromdriver_path)"
   ]
  },
  {
   "cell_type": "code",
   "execution_count": 63,
   "metadata": {},
   "outputs": [],
   "source": [
    "class Life_insurance():\n",
    "    '''calculate the amount of life insurance a customer needs to purchase\n",
    "    '''\n",
    "    def __init__(self, annual_income, required_percentage, required_years, inflation_rate,\n",
    "                 wage_growth_rate, one_time_expenses,term_structure = term_struc):\n",
    "        '''current_annual_income is the current annual income amount of the customer.\n",
    "           current_required_percentage is the minimum percentage of the customer's income \n",
    "           that is required by his dependents currently.\n",
    "           required_years is how many years customer's dependents will need the income.\n",
    "           inflation_rate is the expected rate of future inflation.\n",
    "           wage_growth_rate is the expected rate of future wage growth.\n",
    "           one_time_expenses is the expenses that will happen once, mainly, they are\n",
    "           tuition, funeral cost, mortgage, other debt.\n",
    "        '''\n",
    "        self.current_annual_income = annual_income\n",
    "        self.current_required_percentage = required_percentage\n",
    "        self.required_years = required_years\n",
    "        \n",
    "        # allow inflation_rate input to be a constant or a list\n",
    "        if type(inflation_rate) == float :\n",
    "            self.inflation_rate = np.repeat(inflation_rate, required_years)\n",
    "        elif len(inflation_rate) >= required_years :\n",
    "            self.inflation_rate = np.array(inflation_rate[:required_years])\n",
    "        else :\n",
    "            print('Error: inflation rate should be a constant or match required years')\n",
    "        \n",
    "        self.wage_growth_rate = wage_growth_rate\n",
    "        self.term_structure = term_structure\n",
    "        self.one_time_expenses = one_time_expenses\n",
    "   \n",
    "    def discount_factor(self):\n",
    "        nyears = self.required_years\n",
    "        term_str = self.term_structure[:nyears]\n",
    "        discount_f = [1/(1+term_str[i])**i for i in range(nyears)]\n",
    "        return discount_f\n",
    "    \n",
    "    def inflation_factor(self):\n",
    "        infl_factor = np.cumprod(1+self.inflation_rate)\n",
    "        return infl_factor\n",
    "    \n",
    "    def minimum_insurance_amount(self):\n",
    "        '''the minimum amount of insurance needed in order to fit the minimum needs of dependents in case\n",
    "           some accidents happen tommorow .\n",
    "           to keep the minimum living standard, the amount of income required in each future year\n",
    "           should be adjusted by inflation\n",
    "        '''\n",
    "        current_min_required_amount = self.current_annual_income * self.current_required_percentage\n",
    "        future_min_required_cashflow = current_min_required_amount * self.inflation_factor()\n",
    "        present_value = sum(future_min_required_cashflow * self.discount_factor())\n",
    "        min_required_amount = present_value + self.one_time_expenses\n",
    "        print('The minimum amount of insurance needed in order to fit the minimum needs of dependents (in\\\n",
    "               case some accidents happen tommorow) plus some one-time expenses is $%.2f. \\n' % min_required_amount)\n",
    "        return min_required_amount\n",
    "    \n",
    "    def perfect_replication_amount(self):\n",
    "        '''the amount of insurance needed in order to replicate the future wage cashflow plus some\n",
    "           one-time expenses. in this case wage grows follow the growth rate\n",
    "        '''\n",
    "        wage_cashflow = self.current_annual_income * np.array([(1+self.wage_growth_rate)**(n+1) for n in range(self.required_years)])\n",
    "        present_value = sum(wage_cashflow * self.discount_factor())\n",
    "        replication_amount = present_value + self.one_time_expenses\n",
    "        print('The amount of insurance needed in order to fully replicate the future wage cashflow (in\\\n",
    "               case some accidents happen tommorow) plus some one-time expenses is $%.2f. \\n' %  replication_amount)\n",
    "        return replication_amount\n",
    "    \n",
    "    def keep_current_living_standard_amount(self):\n",
    "        '''the amount of insurance needed in order to keep current living standard. in this case cashflow\n",
    "           is adjusted to inflation\n",
    "        '''\n",
    "        required_cashflow = self.current_annual_income * self.inflation_factor()\n",
    "        present_value = sum(required_cashflow * self.discount_factor())\n",
    "        required_amount = present_value + self.one_time_expenses\n",
    "        print('The amount of insurance needed in order to keep current living standard (in case\\\n",
    "              some accidents happen tommorow) plus some one-time expenses is %.2f. \\n' % required_amount )\n",
    "        return required_amount\n",
    "    \n",
    "    def result_display(self):\n",
    "        self.minimum_insurance_amount()\n",
    "        self.perfect_replication_amount()\n",
    "        self.keep_current_living_standard_amount()\n",
    "\n",
    "        "
   ]
  },
  {
   "cell_type": "code",
   "execution_count": 58,
   "metadata": {},
   "outputs": [
    {
     "name": "stdout",
     "output_type": "stream",
     "text": [
      "[1.0, 0.998402555910543, 0.9960119680798085, 0.992388849818231, 0.987695507396365, 0.9804818973746696, 0.9716777130975404, 0.9636741781203173, 0.9547879948705985, 0.9450455594291663]\n",
      "[1.01       1.0201     1.030301   1.04060401 1.05101005 1.06152015\n",
      " 1.07213535 1.08285671 1.09368527 1.10462213]\n"
     ]
    }
   ],
   "source": [
    "# test and example\n",
    "if __name__ == '__main__':\n",
    "    # input inflation rate is a constant\n",
    "    L = Life_insurance(1000,0.5,10,0.01,0.02,0)\n",
    "    print(L.discount_factor())\n",
    "    print(L.inflation_factor())"
   ]
  },
  {
   "cell_type": "code",
   "execution_count": 59,
   "metadata": {},
   "outputs": [
    {
     "name": "stdout",
     "output_type": "stream",
     "text": [
      "The minimum amount of insurance needed in order to fit the minimum needs of dependents (in               case some accidents happen tommorow) plus some one-time expenses is $5169.84. \n",
      "\n",
      "The amount of insurance needed in order to fully replicate the future wage cashflow (in               case some accidents happen tommorow) plus some one-time expenses is $10922.90. \n",
      "\n",
      "The amount of insurance needed in order to keep current living standard (in case              some accidents happen tommorow) plus some one-time expenses is 10339.67. \n",
      "\n"
     ]
    },
    {
     "data": {
      "text/plain": [
       "10339.67246256144"
      ]
     },
     "execution_count": 59,
     "metadata": {},
     "output_type": "execute_result"
    }
   ],
   "source": [
    "    L.minimum_insurance_amount()\n",
    "    L.perfect_replication_amount()\n",
    "    L.keep_current_living_standard_amount()"
   ]
  },
  {
   "cell_type": "code",
   "execution_count": 60,
   "metadata": {},
   "outputs": [
    {
     "name": "stdout",
     "output_type": "stream",
     "text": [
      "The minimum amount of insurance needed in order to fit the minimum needs of dependents (in               case some accidents happen tommorow) plus some one-time expenses is $5169.84. \n",
      "\n",
      "The amount of insurance needed in order to fully replicate the future wage cashflow (in               case some accidents happen tommorow) plus some one-time expenses is $10922.90. \n",
      "\n",
      "The amount of insurance needed in order to keep current living standard (in case              some accidents happen tommorow) plus some one-time expenses is 10339.67. \n",
      "\n"
     ]
    }
   ],
   "source": [
    "    L.result_display()"
   ]
  },
  {
   "cell_type": "code",
   "execution_count": 64,
   "metadata": {},
   "outputs": [
    {
     "name": "stdout",
     "output_type": "stream",
     "text": [
      "The minimum amount of insurance needed in order to fit the minimum needs of dependents (in               case some accidents happen tommorow) plus some one-time expenses is $5263.10. \n",
      "\n",
      "The amount of insurance needed in order to fully replicate the future wage cashflow (in               case some accidents happen tommorow) plus some one-time expenses is $10922.90. \n",
      "\n",
      "The amount of insurance needed in order to keep current living standard (in case              some accidents happen tommorow) plus some one-time expenses is 10526.20. \n",
      "\n"
     ]
    }
   ],
   "source": [
    "    # input inflation rate is a list\n",
    "    infl = [0.01, 0.02, 0.01, 0.01, 0.02, 0.011, 0.015, 0.014, 0.008, 0.007]\n",
    "    L = Life_insurance(1000,0.5,10,infl,0.02,0)\n",
    "    L.result_display()"
   ]
  },
  {
   "cell_type": "code",
   "execution_count": null,
   "metadata": {},
   "outputs": [],
   "source": []
  }
 ],
 "metadata": {
  "kernelspec": {
   "display_name": "Python 3",
   "language": "python",
   "name": "python3"
  },
  "language_info": {
   "codemirror_mode": {
    "name": "ipython",
    "version": 3
   },
   "file_extension": ".py",
   "mimetype": "text/x-python",
   "name": "python",
   "nbconvert_exporter": "python",
   "pygments_lexer": "ipython3",
   "version": "3.7.3"
  }
 },
 "nbformat": 4,
 "nbformat_minor": 4
}
