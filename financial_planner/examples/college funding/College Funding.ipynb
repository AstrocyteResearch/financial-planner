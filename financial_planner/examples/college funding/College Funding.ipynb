{
 "cells": [
  {
   "cell_type": "code",
   "execution_count": 1,
   "metadata": {
    "ExecuteTime": {
     "end_time": "2020-05-13T17:08:36.430458Z",
     "start_time": "2020-05-13T17:08:36.102170Z"
    }
   },
   "outputs": [],
   "source": [
    "import pandas as pd\n",
    "import numpy as np"
   ]
  },
  {
   "cell_type": "code",
   "execution_count": null,
   "metadata": {
    "code_folding": [
     0
    ]
   },
   "outputs": [],
   "source": [
    "from financial_planner.entities import CollegeStudent\n",
    "from financial_planner.calculators.CollegeFunding.college_funding_scenarios import CollegeFundingScenario"
   ]
  },
  {
   "cell_type": "code",
   "execution_count": 2,
   "metadata": {
    "ExecuteTime": {
     "end_time": "2020-05-13T17:09:38.668423Z",
     "start_time": "2020-05-13T17:09:38.663438Z"
    }
   },
   "outputs": [],
   "source": [
    "Student1 = CollegeStudent()\n",
    "Student1.add_Expense(2000, 'Play')\n",
    "Student1.add_Income(3000, 'Scholarship')"
   ]
  },
  {
   "cell_type": "code",
   "execution_count": 4,
   "metadata": {
    "ExecuteTime": {
     "end_time": "2020-05-13T17:10:35.006886Z",
     "start_time": "2020-05-13T17:10:34.986940Z"
    }
   },
   "outputs": [],
   "source": [
    "scenario = CollegeFundingScenario(Student1, ColType='out-of-state', State='California', CostIncrsRate=0.05,\n",
    "                                  investrate=0.04, Tax=0.25, yrs_to_col=6, balance=10000, percent_saving=0.8)\n",
    "result = scenario.run()"
   ]
  },
  {
   "cell_type": "code",
   "execution_count": 5,
   "metadata": {
    "ExecuteTime": {
     "end_time": "2020-05-13T17:10:47.234576Z",
     "start_time": "2020-05-13T17:10:47.204657Z"
    }
   },
   "outputs": [
    {
     "data": {
      "text/html": [
       "<div>\n",
       "<style scoped>\n",
       "    .dataframe tbody tr th:only-of-type {\n",
       "        vertical-align: middle;\n",
       "    }\n",
       "\n",
       "    .dataframe tbody tr th {\n",
       "        vertical-align: top;\n",
       "    }\n",
       "\n",
       "    .dataframe thead th {\n",
       "        text-align: right;\n",
       "    }\n",
       "</style>\n",
       "<table border=\"1\" class=\"dataframe\">\n",
       "  <thead>\n",
       "    <tr style=\"text-align: right;\">\n",
       "      <th></th>\n",
       "      <th>Scenario1</th>\n",
       "    </tr>\n",
       "  </thead>\n",
       "  <tbody>\n",
       "    <tr>\n",
       "      <th>State</th>\n",
       "      <td>California</td>\n",
       "    </tr>\n",
       "    <tr>\n",
       "      <th>College Type</th>\n",
       "      <td>out-of-state</td>\n",
       "    </tr>\n",
       "    <tr>\n",
       "      <th>College Study Period</th>\n",
       "      <td>4</td>\n",
       "    </tr>\n",
       "    <tr>\n",
       "      <th>Current Tuition</th>\n",
       "      <td>18926</td>\n",
       "    </tr>\n",
       "    <tr>\n",
       "      <th>Living Expense</th>\n",
       "      <td>10800</td>\n",
       "    </tr>\n",
       "    <tr>\n",
       "      <th>Books and Supplies Fee</th>\n",
       "      <td>1200</td>\n",
       "    </tr>\n",
       "    <tr>\n",
       "      <th>Other Expense during college</th>\n",
       "      <td>2000</td>\n",
       "    </tr>\n",
       "    <tr>\n",
       "      <th>Other Income during college</th>\n",
       "      <td>3000</td>\n",
       "    </tr>\n",
       "    <tr>\n",
       "      <th>Annual Net Cost</th>\n",
       "      <td>29926</td>\n",
       "    </tr>\n",
       "    <tr>\n",
       "      <th>Expected cost in Freshman year</th>\n",
       "      <td>37865.9</td>\n",
       "    </tr>\n",
       "    <tr>\n",
       "      <th>Total Cost for college</th>\n",
       "      <td>205094</td>\n",
       "    </tr>\n",
       "    <tr>\n",
       "      <th>Total Cost in current money</th>\n",
       "      <td>149630</td>\n",
       "    </tr>\n",
       "    <tr>\n",
       "      <th>Percent of costs from savings</th>\n",
       "      <td>0.8</td>\n",
       "    </tr>\n",
       "    <tr>\n",
       "      <th>Equivalent monthly saving</th>\n",
       "      <td>1066.95</td>\n",
       "    </tr>\n",
       "  </tbody>\n",
       "</table>\n",
       "</div>"
      ],
      "text/plain": [
       "                                   Scenario1\n",
       "State                             California\n",
       "College Type                    out-of-state\n",
       "College Study Period                       4\n",
       "Current Tuition                        18926\n",
       "Living Expense                         10800\n",
       "Books and Supplies Fee                  1200\n",
       "Other Expense during college            2000\n",
       "Other Income during college             3000\n",
       "Annual Net Cost                        29926\n",
       "Expected cost in Freshman year       37865.9\n",
       "Total Cost for college                205094\n",
       "Total Cost in current money           149630\n",
       "Percent of costs from savings            0.8\n",
       "Equivalent monthly saving            1066.95"
      ]
     },
     "execution_count": 5,
     "metadata": {},
     "output_type": "execute_result"
    }
   ],
   "source": [
    "df = pd.DataFrame.from_dict(\n",
    "    result['values'],\n",
    "    orient='index',\n",
    "    columns=[\n",
    "        result['name']])\n",
    "df"
   ]
  }
 ],
 "metadata": {
  "hide_input": false,
  "kernelspec": {
   "display_name": "Python 3",
   "language": "python",
   "name": "python3"
  },
  "language_info": {
   "codemirror_mode": {
    "name": "ipython",
    "version": 3
   },
   "file_extension": ".py",
   "mimetype": "text/x-python",
   "name": "python",
   "nbconvert_exporter": "python",
   "pygments_lexer": "ipython3",
   "version": "3.7.7"
  },
  "varInspector": {
   "cols": {
    "lenName": 16,
    "lenType": 16,
    "lenVar": 40
   },
   "kernels_config": {
    "python": {
     "delete_cmd_postfix": "",
     "delete_cmd_prefix": "del ",
     "library": "var_list.py",
     "varRefreshCmd": "print(var_dic_list())"
    },
    "r": {
     "delete_cmd_postfix": ") ",
     "delete_cmd_prefix": "rm(",
     "library": "var_list.r",
     "varRefreshCmd": "cat(var_dic_list()) "
    }
   },
   "types_to_exclude": [
    "module",
    "function",
    "builtin_function_or_method",
    "instance",
    "_Feature"
   ],
   "window_display": false
  }
 },
 "nbformat": 4,
 "nbformat_minor": 4
}
