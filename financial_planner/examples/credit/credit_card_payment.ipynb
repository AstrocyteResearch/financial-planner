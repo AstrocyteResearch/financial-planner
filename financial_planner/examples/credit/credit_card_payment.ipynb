{
 "cells": [
  {
   "cell_type": "code",
   "execution_count": 1,
   "metadata": {},
   "outputs": [],
   "source": [
    "# To install clone repo and then run setup.py\n",
    "# !pip install -e C:/Users/skruz/PycharmProjects/financial-planner"
   ]
  },
  {
   "cell_type": "markdown",
   "metadata": {
    "collapsed": true
   },
   "source": [
    "# Credit Card Payment Scenario Calculator"
   ]
  },
  {
   "cell_type": "code",
   "execution_count": null,
   "metadata": {},
   "outputs": [],
   "source": []
  },
  {
   "cell_type": "code",
   "execution_count": 2,
   "metadata": {},
   "outputs": [],
   "source": [
    "%matplotlib inline\n",
    "# import seaborn as sns\n",
    "import matplotlib.pylab as plt\n",
    "import financial_planner as fp\n",
    "import pandas as pd"
   ]
  },
  {
   "cell_type": "code",
   "execution_count": 61,
   "metadata": {},
   "outputs": [
    {
     "name": "stdout",
     "output_type": "stream",
     "text": [
      "<financial_planner.entities.household.Person object at 0x000001A8763B2588>\n"
     ]
    }
   ],
   "source": [
    "from financial_planner.entities.household import Person\n",
    "from financial_planner.entities.income import Job\n",
    "from financial_planner.entities.expense import Expenses\n",
    "\n",
    "\n",
    "person = Person(\n",
    "    age=30,\n",
    "    gender='M'\n",
    ")\n",
    "person.add_job(Job(salary=400000, salary_growth_rate=0.02))\n",
    "person.add_expense(Expenses(200))\n",
    "print(person)"
   ]
  },
  {
   "cell_type": "code",
   "execution_count": 65,
   "metadata": {},
   "outputs": [],
   "source": [
    "from financial_planner.entities.credit_card import CreditCard\n",
    "\n",
    "\n",
    "credit_cards = [\n",
    "    CreditCard([.1049, .1549], balances=[5401.99, 1014.94], balance_types=['Purchases prior to 04/26/2018','Purchases'],\n",
    "               monthly_due_day=11, credit_limit=6400, name=\"Chase Slate\", account_number=\"xxxx-xxxx-xxxx-1234\"),\n",
    "    CreditCard([.1350, .1724], balances=[8663.49, 4967.31], balance_types=['Purchases prior to 01/23/2018' ,'Purchases'],\n",
    "               monthly_due_day=7, credit_limit=13700, name=\"Chase Freedom\", account_number=\"xxxx-xxxx-xxxx-4567\"),\n",
    "    CreditCard(.1749, balances=[7000.00], monthly_due_day=12, credit_limit=7500, name=\"TD Card Services\",\n",
    "               account_number=\"xxxx-xxxx-xxxx-7894\")\n",
    "]\n"
   ]
  },
  {
   "cell_type": "code",
   "execution_count": 66,
   "metadata": {},
   "outputs": [
    {
     "data": {
      "text/plain": [
       "1.0"
      ]
     },
     "execution_count": 66,
     "metadata": {},
     "output_type": "execute_result"
    }
   ],
   "source": [
    "person.savings_rate"
   ]
  },
  {
   "cell_type": "code",
   "execution_count": 69,
   "metadata": {},
   "outputs": [
    {
     "name": "stderr",
     "output_type": "stream",
     "text": [
      "c:\\users\\skruz\\pycharmprojects\\financial-planner\\financial_planner\\calculators\\credit\\credit_card_payment_scenarios.py:54: FutureWarning: The pandas.np module is deprecated and will be removed from pandas in a future version. Import numpy directly instead\n",
      "  ts = pd.DataFrame(None, index=index, columns=columns, dtype=pd.np.float)\n"
     ]
    }
   ],
   "source": [
    "from financial_planner.calculators.credit.credit_card_payment_scenarios import CreditCardScenario\n",
    "\n",
    "\n",
    "payment_strategies = [\n",
    "    'min_payment_only',\n",
    "#     'highest_rate_first',\n",
    "#     'largest_balance_first',\n",
    "    'smallest_balance_first',\n",
    "#     'optimized'\n",
    "]\n",
    "\n",
    "scenarios = [CreditCardScenario(person=person, scenario_name=strategy) for strategy in payment_strategies]\n"
   ]
  },
  {
   "cell_type": "code",
   "execution_count": 71,
   "metadata": {},
   "outputs": [
    {
     "name": "stderr",
     "output_type": "stream",
     "text": [
      "min_payment_only:  91%|█████████ | 326/360 [00:02<00:00, 149.82it/s]\n",
      "smallest_balance_first:  88%|████████▊ | 317/360 [00:02<00:00, 151.89it/s]\n"
     ]
    }
   ],
   "source": [
    "results = []\n",
    "for scenario in scenarios:\n",
    "    results.append(scenario.run(credit_cards))"
   ]
  },
  {
   "cell_type": "code",
   "execution_count": 72,
   "metadata": {},
   "outputs": [
    {
     "data": {
      "text/html": [
       "<div>\n",
       "<style scoped>\n",
       "    .dataframe tbody tr th:only-of-type {\n",
       "        vertical-align: middle;\n",
       "    }\n",
       "\n",
       "    .dataframe tbody tr th {\n",
       "        vertical-align: top;\n",
       "    }\n",
       "\n",
       "    .dataframe thead th {\n",
       "        text-align: right;\n",
       "    }\n",
       "</style>\n",
       "<table border=\"1\" class=\"dataframe\">\n",
       "  <thead>\n",
       "    <tr style=\"text-align: right;\">\n",
       "      <th></th>\n",
       "      <th>min_payment_only</th>\n",
       "      <th>smallest_balance_first</th>\n",
       "    </tr>\n",
       "  </thead>\n",
       "  <tbody>\n",
       "    <tr>\n",
       "      <th>initial_balance</th>\n",
       "      <td>27047.730000</td>\n",
       "      <td>27047.730000</td>\n",
       "    </tr>\n",
       "    <tr>\n",
       "      <th>payments_sum</th>\n",
       "      <td>27047.730000</td>\n",
       "      <td>27047.730000</td>\n",
       "    </tr>\n",
       "    <tr>\n",
       "      <th>payments_sum_pv</th>\n",
       "      <td>24988.014856</td>\n",
       "      <td>25465.724816</td>\n",
       "    </tr>\n",
       "    <tr>\n",
       "      <th>months_to_paydown</th>\n",
       "      <td>328.000000</td>\n",
       "      <td>328.000000</td>\n",
       "    </tr>\n",
       "    <tr>\n",
       "      <th>months_to_paydown_85pct</th>\n",
       "      <td>94.000000</td>\n",
       "      <td>81.000000</td>\n",
       "    </tr>\n",
       "    <tr>\n",
       "      <th>months_to_paydown_95pct</th>\n",
       "      <td>149.000000</td>\n",
       "      <td>135.000000</td>\n",
       "    </tr>\n",
       "    <tr>\n",
       "      <th>months_to_paydown_99pct</th>\n",
       "      <td>228.000000</td>\n",
       "      <td>215.000000</td>\n",
       "    </tr>\n",
       "    <tr>\n",
       "      <th>late_fees</th>\n",
       "      <td>0.000000</td>\n",
       "      <td>0.000000</td>\n",
       "    </tr>\n",
       "    <tr>\n",
       "      <th>missed_payments</th>\n",
       "      <td>0.000000</td>\n",
       "      <td>0.000000</td>\n",
       "    </tr>\n",
       "  </tbody>\n",
       "</table>\n",
       "</div>"
      ],
      "text/plain": [
       "                         min_payment_only  smallest_balance_first\n",
       "initial_balance              27047.730000            27047.730000\n",
       "payments_sum                 27047.730000            27047.730000\n",
       "payments_sum_pv              24988.014856            25465.724816\n",
       "months_to_paydown              328.000000              328.000000\n",
       "months_to_paydown_85pct         94.000000               81.000000\n",
       "months_to_paydown_95pct        149.000000              135.000000\n",
       "months_to_paydown_99pct        228.000000              215.000000\n",
       "late_fees                        0.000000                0.000000\n",
       "missed_payments                  0.000000                0.000000"
      ]
     },
     "execution_count": 72,
     "metadata": {},
     "output_type": "execute_result"
    }
   ],
   "source": [
    "df_results = pd.DataFrame({r['name']: r['values'] for r in results})\n",
    "df_results"
   ]
  },
  {
   "cell_type": "code",
   "execution_count": 86,
   "metadata": {},
   "outputs": [
    {
     "ename": "TypeError",
     "evalue": "all inputs must be Index",
     "output_type": "error",
     "traceback": [
      "\u001b[1;31m---------------------------------------------------------------------------\u001b[0m",
      "\u001b[1;31mTypeError\u001b[0m                                 Traceback (most recent call last)",
      "\u001b[1;32m<ipython-input-86-171c7f17773c>\u001b[0m in \u001b[0;36m<module>\u001b[1;34m()\u001b[0m\n\u001b[0;32m      6\u001b[0m ], axis=1)\n\u001b[0;32m      7\u001b[0m \u001b[1;33m\u001b[0m\u001b[0m\n\u001b[1;32m----> 8\u001b[1;33m \u001b[0mtmp\u001b[0m\u001b[1;33m.\u001b[0m\u001b[0mcolumns\u001b[0m\u001b[1;33m.\u001b[0m\u001b[0mappend\u001b[0m\u001b[1;33m(\u001b[0m\u001b[1;33m[\u001b[0m\u001b[1;34m'test'\u001b[0m\u001b[1;33m]\u001b[0m\u001b[1;33m)\u001b[0m\u001b[1;33m\u001b[0m\u001b[0m\n\u001b[0m",
      "\u001b[1;32m~\\Anaconda3\\envs\\astrocyte_v2\\lib\\site-packages\\pandas\\core\\indexes\\base.py\u001b[0m in \u001b[0;36mappend\u001b[1;34m(self, other)\u001b[0m\n\u001b[0;32m   3982\u001b[0m         \u001b[1;32mfor\u001b[0m \u001b[0mobj\u001b[0m \u001b[1;32min\u001b[0m \u001b[0mto_concat\u001b[0m\u001b[1;33m:\u001b[0m\u001b[1;33m\u001b[0m\u001b[0m\n\u001b[0;32m   3983\u001b[0m             \u001b[1;32mif\u001b[0m \u001b[1;32mnot\u001b[0m \u001b[0misinstance\u001b[0m\u001b[1;33m(\u001b[0m\u001b[0mobj\u001b[0m\u001b[1;33m,\u001b[0m \u001b[0mIndex\u001b[0m\u001b[1;33m)\u001b[0m\u001b[1;33m:\u001b[0m\u001b[1;33m\u001b[0m\u001b[0m\n\u001b[1;32m-> 3984\u001b[1;33m                 \u001b[1;32mraise\u001b[0m \u001b[0mTypeError\u001b[0m\u001b[1;33m(\u001b[0m\u001b[1;34m\"all inputs must be Index\"\u001b[0m\u001b[1;33m)\u001b[0m\u001b[1;33m\u001b[0m\u001b[0m\n\u001b[0m\u001b[0;32m   3985\u001b[0m \u001b[1;33m\u001b[0m\u001b[0m\n\u001b[0;32m   3986\u001b[0m         \u001b[0mnames\u001b[0m \u001b[1;33m=\u001b[0m \u001b[1;33m{\u001b[0m\u001b[0mobj\u001b[0m\u001b[1;33m.\u001b[0m\u001b[0mname\u001b[0m \u001b[1;32mfor\u001b[0m \u001b[0mobj\u001b[0m \u001b[1;32min\u001b[0m \u001b[0mto_concat\u001b[0m\u001b[1;33m}\u001b[0m\u001b[1;33m\u001b[0m\u001b[0m\n",
      "\u001b[1;31mTypeError\u001b[0m: all inputs must be Index"
     ]
    }
   ],
   "source": [
    "# ts_results = pd.DataFrame({(c, r['name']): r['ts'][c] for r in results for c in r['ts'].keys() }).set_index('')\n",
    "# ts_results\n",
    "\n",
    "tmp = pd.concat([\n",
    "    pd.DataFrame(r['ts']).set_index('ref_period') for r in results\n",
    "], axis=1)\n",
    "\n",
    "df.columns = pd.MultiIndex.from_product([df.columns, ['C']])\n",
    "\n",
    "tmp.columns.append(['test'])"
   ]
  },
  {
   "cell_type": "code",
   "execution_count": 60,
   "metadata": {},
   "outputs": [
    {
     "data": {
      "text/plain": [
       "<matplotlib.axes._subplots.AxesSubplot at 0x1a8763692b0>"
      ]
     },
     "execution_count": 60,
     "metadata": {},
     "output_type": "execute_result"
    },
    {
     "data": {
      "image/png": "[encoded data removed]",
      "text/plain": [
       "<Figure size 432x288 with 1 Axes>"
      ]
     },
     "metadata": {},
     "output_type": "display_data"
    }
   ],
   "source": [
    "df_results.loc[\"payments_sum_pv\"].plot(kind='barh')"
   ]
  },
  {
   "cell_type": "code",
   "execution_count": null,
   "metadata": {
    "scrolled": false
   },
   "outputs": [],
   "source": []
  },
  {
   "cell_type": "code",
   "execution_count": 51,
   "metadata": {},
   "outputs": [
    {
     "data": {
      "text/html": [
       "<div>\n",
       "<style scoped>\n",
       "    .dataframe tbody tr th:only-of-type {\n",
       "        vertical-align: middle;\n",
       "    }\n",
       "\n",
       "    .dataframe tbody tr th {\n",
       "        vertical-align: top;\n",
       "    }\n",
       "\n",
       "    .dataframe thead th {\n",
       "        text-align: right;\n",
       "    }\n",
       "</style>\n",
       "<table border=\"1\" class=\"dataframe\">\n",
       "  <thead>\n",
       "    <tr style=\"text-align: right;\">\n",
       "      <th></th>\n",
       "      <th>highest_rate_first</th>\n",
       "    </tr>\n",
       "  </thead>\n",
       "  <tbody>\n",
       "    <tr>\n",
       "      <th>initial_balance</th>\n",
       "      <td>27047.730000</td>\n",
       "    </tr>\n",
       "    <tr>\n",
       "      <th>late_fees</th>\n",
       "      <td>0.000000</td>\n",
       "    </tr>\n",
       "    <tr>\n",
       "      <th>missed_payments</th>\n",
       "      <td>0.000000</td>\n",
       "    </tr>\n",
       "    <tr>\n",
       "      <th>months_to_paydown</th>\n",
       "      <td>9.000000</td>\n",
       "    </tr>\n",
       "    <tr>\n",
       "      <th>months_to_paydown_85pct</th>\n",
       "      <td>7.000000</td>\n",
       "    </tr>\n",
       "    <tr>\n",
       "      <th>months_to_paydown_95pct</th>\n",
       "      <td>8.000000</td>\n",
       "    </tr>\n",
       "    <tr>\n",
       "      <th>months_to_paydown_99pct</th>\n",
       "      <td>8.000000</td>\n",
       "    </tr>\n",
       "    <tr>\n",
       "      <th>payments_sum</th>\n",
       "      <td>27047.730000</td>\n",
       "    </tr>\n",
       "    <tr>\n",
       "      <th>payments_sum_pv</th>\n",
       "      <td>26846.089918</td>\n",
       "    </tr>\n",
       "  </tbody>\n",
       "</table>\n",
       "</div>"
      ],
      "text/plain": [
       "                         highest_rate_first\n",
       "initial_balance                27047.730000\n",
       "late_fees                          0.000000\n",
       "missed_payments                    0.000000\n",
       "months_to_paydown                  9.000000\n",
       "months_to_paydown_85pct            7.000000\n",
       "months_to_paydown_95pct            8.000000\n",
       "months_to_paydown_99pct            8.000000\n",
       "payments_sum                   27047.730000\n",
       "payments_sum_pv                26846.089918"
      ]
     },
     "execution_count": 51,
     "metadata": {},
     "output_type": "execute_result"
    }
   ],
   "source": [
    "df_results\n"
   ]
  },
  {
   "cell_type": "code",
   "execution_count": null,
   "metadata": {
    "collapsed": true
   },
   "outputs": [],
   "source": []
  },
  {
   "cell_type": "code",
   "execution_count": null,
   "metadata": {
    "collapsed": true
   },
   "outputs": [],
   "source": []
  }
 ],
 "metadata": {
  "kernelspec": {
   "display_name": "Python 3",
   "language": "python",
   "name": "python3"
  },
  "language_info": {
   "codemirror_mode": {
    "name": "ipython",
    "version": 3
   },
   "file_extension": ".py",
   "mimetype": "text/x-python",
   "name": "python",
   "nbconvert_exporter": "python",
   "pygments_lexer": "ipython3",
   "version": "3.6.2"
  }
 },
 "nbformat": 4,
 "nbformat_minor": 1
}
