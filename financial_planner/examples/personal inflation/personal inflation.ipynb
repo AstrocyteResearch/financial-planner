{
 "cells": [
  {
   "cell_type": "code",
   "execution_count": null,
   "metadata": {},
   "outputs": [],
   "source": [
    "from financial_planner.calculators.PersonalInflation.personal_inflation_scenario import *"
   ]
  },
  {
   "cell_type": "code",
   "execution_count": 3,
   "metadata": {
    "ExecuteTime": {
     "end_time": "2020-05-14T18:07:53.057176Z",
     "start_time": "2020-05-14T18:07:52.996040Z"
    }
   },
   "outputs": [],
   "source": [
    "# the monthly expenses on various categories\n",
    "expense = {'food': 4500,\n",
    "                'education': 845,\n",
    "                'recreation': 750,\n",
    "                'medical': 890,\n",
    "                'transportation': 1125,\n",
    "                'apparel': 370,\n",
    "                'housing': 5110,\n",
    "                'other': 2510}\n",
    "Scenario1 = PersonalInflationScenario(expense)\n",
    "df = Scenario1.run()"
   ]
  },
  {
   "cell_type": "code",
   "execution_count": 6,
   "metadata": {
    "ExecuteTime": {
     "end_time": "2020-05-14T18:10:26.602262Z",
     "start_time": "2020-05-14T18:10:26.590296Z"
    }
   },
   "outputs": [
    {
     "data": {
      "text/html": [
       "<style  type=\"text/css\" >\n",
       "</style><table id=\"T_2febf574_960e_11ea_95b1_9cb6d016c40a\" ><thead>    <tr>        <th class=\"blank level0\" ></th>        <th class=\"col_heading level0 col0\" >Price_change</th>        <th class=\"col_heading level0 col1\" >CPI_weights</th>        <th class=\"col_heading level0 col2\" >Personal_weiights</th>    </tr></thead><tbody>\n",
       "                <tr>\n",
       "                        <th id=\"T_2febf574_960e_11ea_95b1_9cb6d016c40alevel0_row0\" class=\"row_heading level0 row0\" >Food</th>\n",
       "                        <td id=\"T_2febf574_960e_11ea_95b1_9cb6d016c40arow0_col0\" class=\"data row0 col0\" >1.46%</td>\n",
       "                        <td id=\"T_2febf574_960e_11ea_95b1_9cb6d016c40arow0_col1\" class=\"data row0 col1\" >15.30%</td>\n",
       "                        <td id=\"T_2febf574_960e_11ea_95b1_9cb6d016c40arow0_col2\" class=\"data row0 col2\" >27.95%</td>\n",
       "            </tr>\n",
       "            <tr>\n",
       "                        <th id=\"T_2febf574_960e_11ea_95b1_9cb6d016c40alevel0_row1\" class=\"row_heading level0 row1\" >Education</th>\n",
       "                        <td id=\"T_2febf574_960e_11ea_95b1_9cb6d016c40arow1_col0\" class=\"data row1 col0\" >0.13%</td>\n",
       "                        <td id=\"T_2febf574_960e_11ea_95b1_9cb6d016c40arow1_col1\" class=\"data row1 col1\" >6.80%</td>\n",
       "                        <td id=\"T_2febf574_960e_11ea_95b1_9cb6d016c40arow1_col2\" class=\"data row1 col2\" >5.25%</td>\n",
       "            </tr>\n",
       "            <tr>\n",
       "                        <th id=\"T_2febf574_960e_11ea_95b1_9cb6d016c40alevel0_row2\" class=\"row_heading level0 row2\" >Recreation</th>\n",
       "                        <td id=\"T_2febf574_960e_11ea_95b1_9cb6d016c40arow2_col0\" class=\"data row2 col0\" >-0.27%</td>\n",
       "                        <td id=\"T_2febf574_960e_11ea_95b1_9cb6d016c40arow2_col1\" class=\"data row2 col1\" >6.00%</td>\n",
       "                        <td id=\"T_2febf574_960e_11ea_95b1_9cb6d016c40arow2_col2\" class=\"data row2 col2\" >4.66%</td>\n",
       "            </tr>\n",
       "            <tr>\n",
       "                        <th id=\"T_2febf574_960e_11ea_95b1_9cb6d016c40alevel0_row3\" class=\"row_heading level0 row3\" >Medical</th>\n",
       "                        <td id=\"T_2febf574_960e_11ea_95b1_9cb6d016c40arow3_col0\" class=\"data row3 col0\" >0.28%</td>\n",
       "                        <td id=\"T_2febf574_960e_11ea_95b1_9cb6d016c40arow3_col1\" class=\"data row3 col1\" >7.20%</td>\n",
       "                        <td id=\"T_2febf574_960e_11ea_95b1_9cb6d016c40arow3_col2\" class=\"data row3 col2\" >5.53%</td>\n",
       "            </tr>\n",
       "            <tr>\n",
       "                        <th id=\"T_2febf574_960e_11ea_95b1_9cb6d016c40alevel0_row4\" class=\"row_heading level0 row4\" >Transportation</th>\n",
       "                        <td id=\"T_2febf574_960e_11ea_95b1_9cb6d016c40arow4_col0\" class=\"data row4 col0\" >-4.97%</td>\n",
       "                        <td id=\"T_2febf574_960e_11ea_95b1_9cb6d016c40arow4_col1\" class=\"data row4 col1\" >16.80%</td>\n",
       "                        <td id=\"T_2febf574_960e_11ea_95b1_9cb6d016c40arow4_col2\" class=\"data row4 col2\" >6.99%</td>\n",
       "            </tr>\n",
       "            <tr>\n",
       "                        <th id=\"T_2febf574_960e_11ea_95b1_9cb6d016c40alevel0_row5\" class=\"row_heading level0 row5\" >Apparel</th>\n",
       "                        <td id=\"T_2febf574_960e_11ea_95b1_9cb6d016c40arow5_col0\" class=\"data row5 col0\" >-4.38%</td>\n",
       "                        <td id=\"T_2febf574_960e_11ea_95b1_9cb6d016c40arow5_col1\" class=\"data row5 col1\" >3.60%</td>\n",
       "                        <td id=\"T_2febf574_960e_11ea_95b1_9cb6d016c40arow5_col2\" class=\"data row5 col2\" >2.30%</td>\n",
       "            </tr>\n",
       "            <tr>\n",
       "                        <th id=\"T_2febf574_960e_11ea_95b1_9cb6d016c40alevel0_row6\" class=\"row_heading level0 row6\" >Housing</th>\n",
       "                        <td id=\"T_2febf574_960e_11ea_95b1_9cb6d016c40arow6_col0\" class=\"data row6 col0\" >-0.03%</td>\n",
       "                        <td id=\"T_2febf574_960e_11ea_95b1_9cb6d016c40arow6_col1\" class=\"data row6 col1\" >41.00%</td>\n",
       "                        <td id=\"T_2febf574_960e_11ea_95b1_9cb6d016c40arow6_col2\" class=\"data row6 col2\" >31.74%</td>\n",
       "            </tr>\n",
       "            <tr>\n",
       "                        <th id=\"T_2febf574_960e_11ea_95b1_9cb6d016c40alevel0_row7\" class=\"row_heading level0 row7\" >Others</th>\n",
       "                        <td id=\"T_2febf574_960e_11ea_95b1_9cb6d016c40arow7_col0\" class=\"data row7 col0\" >-0.04%</td>\n",
       "                        <td id=\"T_2febf574_960e_11ea_95b1_9cb6d016c40arow7_col1\" class=\"data row7 col1\" >3.40%</td>\n",
       "                        <td id=\"T_2febf574_960e_11ea_95b1_9cb6d016c40arow7_col2\" class=\"data row7 col2\" >15.59%</td>\n",
       "            </tr>\n",
       "            <tr>\n",
       "                        <th id=\"T_2febf574_960e_11ea_95b1_9cb6d016c40alevel0_row8\" class=\"row_heading level0 row8\" >Inflation Rate</th>\n",
       "                        <td id=\"T_2febf574_960e_11ea_95b1_9cb6d016c40arow8_col0\" class=\"data row8 col0\" >nan%</td>\n",
       "                        <td id=\"T_2febf574_960e_11ea_95b1_9cb6d016c40arow8_col1\" class=\"data row8 col1\" >-0.77%</td>\n",
       "                        <td id=\"T_2febf574_960e_11ea_95b1_9cb6d016c40arow8_col2\" class=\"data row8 col2\" >-0.05%</td>\n",
       "            </tr>\n",
       "    </tbody></table>"
      ],
      "text/plain": [
       "<pandas.io.formats.style.Styler at 0x2baeaaab2c8>"
      ]
     },
     "execution_count": 6,
     "metadata": {},
     "output_type": "execute_result"
    }
   ],
   "source": [
    "df.style.format('{0:.2%}')"
   ]
  }
 ],
 "metadata": {
  "hide_input": false,
  "kernelspec": {
   "display_name": "Python 3",
   "language": "python",
   "name": "python3"
  },
  "language_info": {
   "codemirror_mode": {
    "name": "ipython",
    "version": 3
   },
   "file_extension": ".py",
   "mimetype": "text/x-python",
   "name": "python",
   "nbconvert_exporter": "python",
   "pygments_lexer": "ipython3",
   "version": "3.7.7"
  },
  "varInspector": {
   "cols": {
    "lenName": 16,
    "lenType": 16,
    "lenVar": 40
   },
   "kernels_config": {
    "python": {
     "delete_cmd_postfix": "",
     "delete_cmd_prefix": "del ",
     "library": "var_list.py",
     "varRefreshCmd": "print(var_dic_list())"
    },
    "r": {
     "delete_cmd_postfix": ") ",
     "delete_cmd_prefix": "rm(",
     "library": "var_list.r",
     "varRefreshCmd": "cat(var_dic_list()) "
    }
   },
   "types_to_exclude": [
    "module",
    "function",
    "builtin_function_or_method",
    "instance",
    "_Feature"
   ],
   "window_display": false
  }
 },
 "nbformat": 4,
 "nbformat_minor": 4
}
