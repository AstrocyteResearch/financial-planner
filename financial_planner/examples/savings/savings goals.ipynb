{
 "cells": [
  {
   "cell_type": "code",
   "execution_count": 1,
   "metadata": {},
   "outputs": [
    {
     "name": "stdout",
     "output_type": "stream",
     "text": [
      "Processing /Users/zehaodong/Documents/GitHub/financial-planner\n",
      "  Installing build dependencies ... \u001b[?25ldone\n",
      "\u001b[?25h  Getting requirements to build wheel ... \u001b[?25ldone\n",
      "\u001b[?25h    Preparing wheel metadata ... \u001b[?25ldone\n",
      "\u001b[?25hBuilding wheels for collected packages: financial-planner\n",
      "  Building wheel for financial-planner (PEP 517) ... \u001b[?25ldone\n",
      "\u001b[?25h  Created wheel for financial-planner: filename=financial_planner-0.0.2-py2.py3-none-any.whl size=45182 sha256=48d73ed5b10e07c9a80f557928cae2fca975e507489a7b8ed7d0461f301d2317\n",
      "  Stored in directory: /Users/zehaodong/Library/Caches/pip/wheels/d6/2e/74/de1092ce1238911e4b3d829f7dca44d948cd0795a65fd66f2b\n",
      "Successfully built financial-planner\n",
      "Installing collected packages: financial-planner\n",
      "  Attempting uninstall: financial-planner\n",
      "    Found existing installation: financial-planner 0.0.2\n",
      "    Uninstalling financial-planner-0.0.2:\n",
      "      Successfully uninstalled financial-planner-0.0.2\n",
      "Successfully installed financial-planner-0.0.2\n"
     ]
    }
   ],
   "source": [
    "!pip install /Users/zehaodong/Documents/GitHub/financial-planner"
   ]
  },
  {
   "cell_type": "markdown",
   "metadata": {},
   "source": [
    "# Savings Goals Calculator"
   ]
  },
  {
   "cell_type": "code",
   "execution_count": 2,
   "metadata": {},
   "outputs": [],
   "source": [
    "import pandas as pd"
   ]
  },
  {
   "cell_type": "code",
   "execution_count": 3,
   "metadata": {},
   "outputs": [
    {
     "name": "stdout",
     "output_type": "stream",
     "text": [
      "<financial_planner.entities.household.Person object at 0x11ec78710>\n"
     ]
    }
   ],
   "source": [
    "from financial_planner.entities.household import Person\n",
    "from financial_planner.entities.income import Job\n",
    "from financial_planner.entities.expense import Expenses\n",
    "\n",
    "\n",
    "person = Person(\n",
    "    age=30,\n",
    "    gender='M'\n",
    ")\n",
    "person.add_job(Job(salary=300000, salary_growth_rate=0.02))\n",
    "person.add_expense(Expenses('living expenses', amount=20000))\n",
    "person.add_expense(Expenses('loan', amount=20000))\n",
    "print(person)"
   ]
  },
  {
   "cell_type": "code",
   "execution_count": 12,
   "metadata": {},
   "outputs": [],
   "source": [
    "from financial_planner.calculators.Savings_Goals import SavingsGoals\n",
    "\n",
    "scenario = SavingsGoals(person=person, savings_goal=10000000, rf=0.01, savings_growth_rate=0.02)"
   ]
  },
  {
   "cell_type": "code",
   "execution_count": 14,
   "metadata": {},
   "outputs": [
    {
     "data": {
      "text/html": [
       "<div>\n",
       "<style scoped>\n",
       "    .dataframe tbody tr th:only-of-type {\n",
       "        vertical-align: middle;\n",
       "    }\n",
       "\n",
       "    .dataframe tbody tr th {\n",
       "        vertical-align: top;\n",
       "    }\n",
       "\n",
       "    .dataframe thead th {\n",
       "        text-align: right;\n",
       "    }\n",
       "</style>\n",
       "<table border=\"1\" class=\"dataframe\">\n",
       "  <thead>\n",
       "    <tr style=\"text-align: right;\">\n",
       "      <th></th>\n",
       "      <th>income</th>\n",
       "      <th>expense</th>\n",
       "      <th>net income</th>\n",
       "      <th>minimum savings</th>\n",
       "    </tr>\n",
       "  </thead>\n",
       "  <tbody>\n",
       "    <tr>\n",
       "      <td>2020-06</td>\n",
       "      <td>25041.289533</td>\n",
       "      <td>3333.333333</td>\n",
       "      <td>21707.956199</td>\n",
       "      <td>17720.3751259616</td>\n",
       "    </tr>\n",
       "    <tr>\n",
       "      <td>2020-07</td>\n",
       "      <td>25082.647258</td>\n",
       "      <td>3333.333333</td>\n",
       "      <td>21749.313925</td>\n",
       "      <td>17749.6417661826</td>\n",
       "    </tr>\n",
       "    <tr>\n",
       "      <td>2020-08</td>\n",
       "      <td>25124.073289</td>\n",
       "      <td>3333.333333</td>\n",
       "      <td>21790.739956</td>\n",
       "      <td>17778.9567426395</td>\n",
       "    </tr>\n",
       "    <tr>\n",
       "      <td>2020-09</td>\n",
       "      <td>25165.567739</td>\n",
       "      <td>3333.333333</td>\n",
       "      <td>21832.234406</td>\n",
       "      <td>17808.3201351632</td>\n",
       "    </tr>\n",
       "    <tr>\n",
       "      <td>2020-10</td>\n",
       "      <td>25207.130720</td>\n",
       "      <td>3333.333333</td>\n",
       "      <td>21873.797387</td>\n",
       "      <td>17837.7320237171</td>\n",
       "    </tr>\n",
       "    <tr>\n",
       "      <td>...</td>\n",
       "      <td>...</td>\n",
       "      <td>...</td>\n",
       "      <td>...</td>\n",
       "      <td>...</td>\n",
       "    </tr>\n",
       "    <tr>\n",
       "      <td>2050-01</td>\n",
       "      <td>44986.109664</td>\n",
       "      <td>3333.333333</td>\n",
       "      <td>41652.776331</td>\n",
       "      <td>31834.2526916714</td>\n",
       "    </tr>\n",
       "    <tr>\n",
       "      <td>2050-02</td>\n",
       "      <td>45060.407882</td>\n",
       "      <td>3333.333333</td>\n",
       "      <td>41727.074548</td>\n",
       "      <td>31886.8295481776</td>\n",
       "    </tr>\n",
       "    <tr>\n",
       "      <td>2050-03</td>\n",
       "      <td>45134.828809</td>\n",
       "      <td>3333.333333</td>\n",
       "      <td>41801.495475</td>\n",
       "      <td>31939.4932396369</td>\n",
       "    </tr>\n",
       "    <tr>\n",
       "      <td>2050-04</td>\n",
       "      <td>45209.372648</td>\n",
       "      <td>3333.333333</td>\n",
       "      <td>41876.039315</td>\n",
       "      <td>31992.2439094643</td>\n",
       "    </tr>\n",
       "    <tr>\n",
       "      <td>2050-05</td>\n",
       "      <td>45284.039603</td>\n",
       "      <td>3333.333333</td>\n",
       "      <td>41950.706269</td>\n",
       "      <td>32045.0817013116</td>\n",
       "    </tr>\n",
       "  </tbody>\n",
       "</table>\n",
       "<p>360 rows × 4 columns</p>\n",
       "</div>"
      ],
      "text/plain": [
       "               income      expense    net income   minimum savings\n",
       "2020-06  25041.289533  3333.333333  21707.956199  17720.3751259616\n",
       "2020-07  25082.647258  3333.333333  21749.313925  17749.6417661826\n",
       "2020-08  25124.073289  3333.333333  21790.739956  17778.9567426395\n",
       "2020-09  25165.567739  3333.333333  21832.234406  17808.3201351632\n",
       "2020-10  25207.130720  3333.333333  21873.797387  17837.7320237171\n",
       "...               ...          ...           ...               ...\n",
       "2050-01  44986.109664  3333.333333  41652.776331  31834.2526916714\n",
       "2050-02  45060.407882  3333.333333  41727.074548  31886.8295481776\n",
       "2050-03  45134.828809  3333.333333  41801.495475  31939.4932396369\n",
       "2050-04  45209.372648  3333.333333  41876.039315  31992.2439094643\n",
       "2050-05  45284.039603  3333.333333  41950.706269  32045.0817013116\n",
       "\n",
       "[360 rows x 4 columns]"
      ]
     },
     "execution_count": 14,
     "metadata": {},
     "output_type": "execute_result"
    }
   ],
   "source": [
    "df_results = scenario.run()\n",
    "df_results"
   ]
  }
 ],
 "metadata": {
  "kernelspec": {
   "display_name": "Python 3",
   "language": "python",
   "name": "python3"
  },
  "language_info": {
   "codemirror_mode": {
    "name": "ipython",
    "version": 3
   },
   "file_extension": ".py",
   "mimetype": "text/x-python",
   "name": "python",
   "nbconvert_exporter": "python",
   "pygments_lexer": "ipython3",
   "version": "3.7.4"
  }
 },
 "nbformat": 4,
 "nbformat_minor": 2
}
